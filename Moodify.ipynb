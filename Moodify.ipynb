{
 "cells": [
  {
   "cell_type": "code",
   "execution_count": 1,
   "id": "7d3d43d5",
   "metadata": {},
   "outputs": [],
   "source": [
    "from typing import Sequence\n",
    "from langchain.agents import create_openai_tools_agent, AgentExecutor\n",
    "from langchain_community.tools import BaseTool\n",
    "from langchain_core.prompts import MessagesPlaceholder, ChatPromptTemplate\n",
    "from langchain_core.runnables import Runnable\n",
    "from langchain_openai import ChatOpenAI\n",
    "from langchain_core.messages import HumanMessage, SystemMessage\n",
    "from langchain.tools import tool\n",
    "import random\n",
    "import os\n",
    "import requests\n",
    "from IPython.display import display, Markdown\n",
    "from dotenv import load_dotenv"
   ]
  },
  {
   "cell_type": "code",
   "execution_count": 2,
   "id": "a229c22f",
   "metadata": {},
   "outputs": [],
   "source": [
    "load_dotenv()\n",
    "\n",
    "# Define API Keys from environment\n",
    "OPENAI_API_KEY = os.getenv(\"OPENAI_API_KEY\")\n",
    "SPOTIFY_CLIENT_ID = os.getenv(\"SPOTIFY_CLIENT_ID\")\n",
    "SPOTIFY_CLIENT_SECRET = os.getenv(\"SPOTIFY_CLIENT_SECRET\")"
   ]
  },
  {
   "cell_type": "code",
   "execution_count": 3,
   "id": "c1e72caa",
   "metadata": {},
   "outputs": [],
   "source": [
    "# Define mood-to-keyword mapping\n",
    "mood_keywords = {\n",
    "    \"Happy\": [\"feel good\", \"happy hits\", \"good vibes\", \"sunny day vibes\"],\n",
    "    \"Sad\": [\"sad songs\", \"tearjerkers\", \"broken hearts\", \"emotional ballads\"],\n",
    "    \"Angry\": [\"rage\", \"hard rock\", \"metal workout\", \"angsty teen\"],\n",
    "    \"Energetic\": [\"workout\", \"party hits\", \"high energy\", \"pop pump\"],\n",
    "    \"Chill\": [\"lofi\", \"chill vibes\", \"evening acoustics\", \"lazy day\"],\n",
    "    \"Romantic\": [\"love songs\", \"romantic hits\", \"slow dance\", \"late night feels\"],\n",
    "    \"Reflective\": [\"nostalgia\", \"deep focus\", \"indie acoustic\", \"quiet moments\"],\n",
    "    \"Chaotic\": [\"weird vibes\", \"genreless\", \"eclectic\", \"random noise\"]\n",
    "}\n",
    "\n",
    "def get_spotify_keyword(mood: str) -> str:\n",
    "    return random.choice(mood_keywords.get(mood, [\"eclectic\"]))"
   ]
  },
  {
   "cell_type": "code",
   "execution_count": 4,
   "id": "4a4634ae",
   "metadata": {},
   "outputs": [],
   "source": [
    "@tool(description=\"Provides humorous responses\")\n",
    "def llm_response(input: str) -> str:\n",
    "    llm = ChatOpenAI(model=\"gpt-4o\", temperature=0.5, openai_api_key=OPENAI_API_KEY)\n",
    "    messages = [\n",
    "        SystemMessage(content=\"You are a very successful standup comedian. All your responses are extremely humorous.\"),\n",
    "        HumanMessage(content=input)\n",
    "    ]\n",
    "    return llm.invoke(messages).content\n",
    "\n",
    "@tool(description=\"Classifies user's mood from input\")\n",
    "def mood_classifier(input: str) -> str:\n",
    "    llm = ChatOpenAI(model=\"gpt-4o\", temperature=0.3, openai_api_key=OPENAI_API_KEY)\n",
    "    system_prompt = (\n",
    "        \"Return ONLY ONE word from this list based on user mood:\"\n",
    "        \" Happy, Sad, Angry, Energetic, Chill, Romantic, Reflective, Chaotic.\"\n",
    "        \" No commentary or punctuation.\"\n",
    "    )\n",
    "    messages = [SystemMessage(content=system_prompt), HumanMessage(content=input)]\n",
    "    response = llm.invoke(messages).content.strip().capitalize()\n",
    "    return response if response in mood_keywords else \"Reflective\"\n",
    "\n",
    "@tool(description=\"Fetches a Spotify playlist link\")\n",
    "def get_spotify_playlist(search_term: str) -> str:\n",
    "    if not SPOTIFY_CLIENT_ID or not SPOTIFY_CLIENT_SECRET:\n",
    "        return \"Missing Spotify credentials.\"\n",
    "\n",
    "    token_response = requests.post(\n",
    "        \"https://accounts.spotify.com/api/token\",\n",
    "        data={\"grant_type\": \"client_credentials\"},\n",
    "        auth=(SPOTIFY_CLIENT_ID, SPOTIFY_CLIENT_SECRET)\n",
    "    )\n",
    "\n",
    "    if token_response.status_code != 200:\n",
    "        return \"Spotify authentication failed.\"\n",
    "\n",
    "    token = token_response.json()[\"access_token\"]\n",
    "    headers = {\"Authorization\": f\"Bearer {token}\"}\n",
    "    search_response = requests.get(\n",
    "        \"https://api.spotify.com/v1/search\",\n",
    "        headers=headers,\n",
    "        params={\"q\": search_term, \"type\": \"playlist\", \"limit\": 5}\n",
    "    )\n",
    "\n",
    "    playlists = search_response.json().get(\"playlists\", {}).get(\"items\", [])\n",
    "    playlists = [p for p in playlists if p and \"name\" in p and \"external_urls\" in p and \"spotify\" in p[\"external_urls\"]]\n",
    "    if not playlists:\n",
    "        return f\"No playlists found for '{search_term}'\"\n",
    "    playlist = random.choice(playlists)\n",
    "    return f\"Playlist: {playlist['name']}\\nLink: {playlist['external_urls']['spotify']}\""
   ]
  },
  {
   "cell_type": "code",
   "execution_count": 5,
   "id": "1f79ff70",
   "metadata": {},
   "outputs": [],
   "source": [
    "def agent(tools: Sequence[BaseTool]) -> Runnable:\n",
    "    llm = ChatOpenAI(model=\"gpt-4o\", temperature=0, openai_api_key=OPENAI_API_KEY)\n",
    "    system_prompt = \"\"\"\n",
    "    You are a witty assistant. For any user input:\n",
    "    1. Classify the mood using `mood_classifier`\n",
    "    2. Map the mood to a search term\n",
    "    3. Use `get_spotify_playlist` to get a playlist\n",
    "    4. Respond with the playlist and a humorous closing line using `llm_response`\n",
    "    \"\"\"\n",
    "    prompt = ChatPromptTemplate.from_messages([\n",
    "        (\"system\", system_prompt),\n",
    "        (\"user\", \"{input}\"),\n",
    "        MessagesPlaceholder(variable_name=\"agent_scratchpad\")\n",
    "    ])\n",
    "    return create_openai_tools_agent(llm, tools, prompt)\n",
    "\n",
    "tools = [llm_response, mood_classifier, get_spotify_playlist]\n",
    "executor = AgentExecutor(\n",
    "    agent=agent(tools),\n",
    "    tools=tools,\n",
    "    verbose=False,\n",
    "    handle_parsing_errors=True\n",
    ")"
   ]
  },
  {
   "cell_type": "code",
   "execution_count": 6,
   "id": "f52577d6",
   "metadata": {},
   "outputs": [
    {
     "name": "stdout",
     "output_type": "stream",
     "text": [
      "What's on your mind? Tell me your vibe and I’ll get you a playlist!\n",
      "I'm really sleepy but can't quite sleep\n"
     ]
    },
    {
     "data": {
      "text/markdown": [
       "Here's a playlist to help you drift off: [Sleepy Playlist](https://open.spotify.com/playlist/2k9rqLpkIu0Glr3jvRzOA8). Just make sure you don't accidentally hit shuffle and end up with \"Eye of the Tiger\" at 3 AM. Nothing like waking up in a cold sweat, ready to fight a kangaroo in your pajamas!"
      ],
      "text/plain": [
       "<IPython.core.display.Markdown object>"
      ]
     },
     "metadata": {},
     "output_type": "display_data"
    }
   ],
   "source": [
    "user_prompt = input(\"What's on your mind? Tell me your vibe and I’ll get you a playlist!\\n\")\n",
    "response = executor.invoke({\"input\": user_prompt})\n",
    "display(Markdown(response[\"output\"]))"
   ]
  },
  {
   "cell_type": "code",
   "execution_count": null,
   "id": "bcfefc92",
   "metadata": {},
   "outputs": [],
   "source": []
  }
 ],
 "metadata": {
  "kernelspec": {
   "display_name": "Python 3 (ipykernel)",
   "language": "python",
   "name": "python3"
  },
  "language_info": {
   "codemirror_mode": {
    "name": "ipython",
    "version": 3
   },
   "file_extension": ".py",
   "mimetype": "text/x-python",
   "name": "python",
   "nbconvert_exporter": "python",
   "pygments_lexer": "ipython3",
   "version": "3.11.4"
  }
 },
 "nbformat": 4,
 "nbformat_minor": 5
}
